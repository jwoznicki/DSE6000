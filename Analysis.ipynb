{
 "cells": [
  {
   "cell_type": "code",
   "execution_count": 76,
   "metadata": {},
   "outputs": [
    {
     "data": {
      "image/png": "[encoded data removed]",
      "text/plain": [
       "<matplotlib.figure.Figure at 0x2ec68833c18>"
      ]
     },
     "metadata": {},
     "output_type": "display_data"
    }
   ],
   "source": [
    "# Most used Kernels in Kaggle\n",
    "import pandas as pd\n",
    "import matplotlib.pyplot as plt\n",
    "import seaborn as sns\n",
    "%matplotlib inline\n",
    "\n",
    "usgdt = pd.read_json(\"KernelDim.json\")[['scriptVersionDateCreated','languageName']]\n",
    "usgdt\n",
    "\n",
    "xlabel = 'Kernel Count'\n",
    "ylabel = 'Language'\n",
    "title = 'Languages Used in Kaggel Kernels'\n",
    "plot = sns.countplot(y=\"languageName\", data=usgdt).set(xlabel = xlabel, ylabel = ylabel, title = title)"
   ]
  },
  {
   "cell_type": "code",
   "execution_count": 74,
   "metadata": {},
   "outputs": [
    {
     "data": {
      "image/png": "[encoded data removed]",
      "text/plain": [
       "<matplotlib.figure.Figure at 0x2ec64c196d8>"
      ]
     },
     "metadata": {},
     "output_type": "display_data"
    }
   ],
   "source": [
    "# Languages Trending\n",
    "df1 = pd.read_json(\"KernelDim.json\")\n",
    "\n",
    "def year_month(dt):\n",
    "    my_dt = datetime.date(year=dt.year, month=dt.month, day=1)\n",
    "    return my_dt\n",
    "\n",
    "df1['lastRunTime'] = pd.to_datetime(df1['lastRunTime'])\n",
    "df1['MonthCreated'] = df1.apply(lambda x: year_month(x.lastRunTime),axis=1)\n",
    "\n",
    "pythondf = df1.loc[df1['languageName'] == 'Python']\n",
    "rdf = df1.loc[df1['languageName'] == 'R']\n",
    "\n",
    "pythonCount = pythondf.groupby(pythondf['MonthCreated']).size()\n",
    "pythonCount.describe()\n",
    "\n",
    "import numpy as np\n",
    "import matplotlib as mpl\n",
    "\n",
    "pythonCount = pythondf.groupby(pythondf['MonthCreated']).size().plot(x=\"MonthCreated\", y=\"size\", label=\"Python\").legend()\n",
    "rCount = rdf.groupby(rdf['MonthCreated']).size().plot(x=\"MonthCreated\", y=\"size\", label=\"R\").legend()"
   ]
  },
  {
   "cell_type": "code",
   "execution_count": 106,
   "metadata": {},
   "outputs": [
    {
     "data": {
      "text/html": [
       "<div>\n",
       "<style>\n",
       "    .dataframe thead tr:only-child th {\n",
       "        text-align: right;\n",
       "    }\n",
       "\n",
       "    .dataframe thead th {\n",
       "        text-align: left;\n",
       "    }\n",
       "\n",
       "    .dataframe tbody tr th {\n",
       "        vertical-align: top;\n",
       "    }\n",
       "</style>\n",
       "<table border=\"1\" class=\"dataframe\">\n",
       "  <thead>\n",
       "    <tr style=\"text-align: right;\">\n",
       "      <th></th>\n",
       "      <th>package</th>\n",
       "      <th>kernel_id</th>\n",
       "    </tr>\n",
       "  </thead>\n",
       "  <tbody>\n",
       "    <tr>\n",
       "      <th>549</th>\n",
       "      <td>numpy</td>\n",
       "      <td>440</td>\n",
       "    </tr>\n",
       "    <tr>\n",
       "      <th>559</th>\n",
       "      <td>pandas</td>\n",
       "      <td>432</td>\n",
       "    </tr>\n",
       "    <tr>\n",
       "      <th>594</th>\n",
       "      <td>pyplot</td>\n",
       "      <td>370</td>\n",
       "    </tr>\n",
       "    <tr>\n",
       "      <th>627</th>\n",
       "      <td>seaborn</td>\n",
       "      <td>243</td>\n",
       "    </tr>\n",
       "  </tbody>\n",
       "</table>\n",
       "</div>"
      ],
      "text/plain": [
       "     package  kernel_id\n",
       "549    numpy        440\n",
       "559   pandas        432\n",
       "594   pyplot        370\n",
       "627  seaborn        243"
      ]
     },
     "execution_count": 106,
     "metadata": {},
     "output_type": "execute_result"
    }
   ],
   "source": [
    "# Popular Packages\n",
    "packs = pd.read_json(\"Packages.json\")\n",
    "\n",
    "TopPacks = packs.groupby('package')['kernel_id'].count().reset_index()\n",
    "TopPacks.sort_values('kernel_id', ascending=False).head(4)"
   ]
  },
  {
   "cell_type": "code",
   "execution_count": 77,
   "metadata": {},
   "outputs": [],
   "source": [
    "# Popular Methods"
   ]
  },
  {
   "cell_type": "code",
   "execution_count": 104,
   "metadata": {},
   "outputs": [
    {
     "data": {
      "text/html": [
       "<div>\n",
       "<style>\n",
       "    .dataframe thead tr:only-child th {\n",
       "        text-align: right;\n",
       "    }\n",
       "\n",
       "    .dataframe thead th {\n",
       "        text-align: left;\n",
       "    }\n",
       "\n",
       "    .dataframe tbody tr th {\n",
       "        vertical-align: top;\n",
       "    }\n",
       "</style>\n",
       "<table border=\"1\" class=\"dataframe\">\n",
       "  <thead>\n",
       "    <tr style=\"text-align: right;\">\n",
       "      <th></th>\n",
       "      <th>country</th>\n",
       "      <th>currentRanking</th>\n",
       "    </tr>\n",
       "  </thead>\n",
       "  <tbody>\n",
       "    <tr>\n",
       "      <th>11</th>\n",
       "      <td>Hungary</td>\n",
       "      <td>15.0</td>\n",
       "    </tr>\n",
       "    <tr>\n",
       "      <th>32</th>\n",
       "      <td>Turkey</td>\n",
       "      <td>26.0</td>\n",
       "    </tr>\n",
       "    <tr>\n",
       "      <th>28</th>\n",
       "      <td>Russia</td>\n",
       "      <td>26.0</td>\n",
       "    </tr>\n",
       "    <tr>\n",
       "      <th>16</th>\n",
       "      <td>Italy</td>\n",
       "      <td>40.0</td>\n",
       "    </tr>\n",
       "    <tr>\n",
       "      <th>24</th>\n",
       "      <td>Norway</td>\n",
       "      <td>43.0</td>\n",
       "    </tr>\n",
       "  </tbody>\n",
       "</table>\n",
       "</div>"
      ],
      "text/plain": [
       "    country  currentRanking\n",
       "11  Hungary            15.0\n",
       "32   Turkey            26.0\n",
       "28   Russia            26.0\n",
       "16    Italy            40.0\n",
       "24   Norway            43.0"
      ]
     },
     "execution_count": 104,
     "metadata": {},
     "output_type": "execute_result"
    }
   ],
   "source": [
    "# Top Contributer countries\n",
    "Ranks = pd.read_json(\"Ranks.json\")\n",
    "rk1 = Ranks.replace({'country' : {'US' : 'United States', 'USA' : 'United States', 'Deutschland' : 'Germany', 'England' : 'United Kingdom', 'IN' : 'India', 'RU':'Russia','DE':'Netherlands','Россия':'Russia'}})\n",
    "rk2 = rk1.dropna(subset = ['country'])\n",
    "Ranks_Final =rk2[['currentRanking','country']]\n",
    "\n",
    "Ranks_Final = Ranks_Final.groupby(['country'])['currentRanking'].mean().reset_index()\n",
    "\n",
    "Ranks_Final.sort_values('currentRanking').head()"
   ]
  },
  {
   "cell_type": "code",
   "execution_count": null,
   "metadata": {
    "collapsed": true
   },
   "outputs": [],
   "source": []
  }
 ],
 "metadata": {
  "kernelspec": {
   "display_name": "Python 3",
   "language": "python",
   "name": "python3"
  },
  "language_info": {
   "codemirror_mode": {
    "name": "ipython",
    "version": 3
   },
   "file_extension": ".py",
   "mimetype": "text/x-python",
   "name": "python",
   "nbconvert_exporter": "python",
   "pygments_lexer": "ipython3",
   "version": "3.6.1"
  }
 },
 "nbformat": 4,
 "nbformat_minor": 2
}
